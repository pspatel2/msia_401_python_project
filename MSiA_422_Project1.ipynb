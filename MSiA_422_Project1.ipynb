{
 "cells": [
  {
   "cell_type": "markdown",
   "metadata": {},
   "source": [
    "# <font color='blue'> MSiA 422 Project 1\n",
    "## Written by Parth Patel"
   ]
  },
  {
   "cell_type": "markdown",
   "metadata": {},
   "source": [
    "### IMPORTS"
   ]
  },
  {
   "cell_type": "code",
   "execution_count": 23,
   "metadata": {},
   "outputs": [],
   "source": [
    "import pandas as pd\n",
    "import glob\n",
    "import os"
   ]
  },
  {
   "cell_type": "markdown",
   "metadata": {},
   "source": [
    "## <font color='orange'> Exercise 1"
   ]
  },
  {
   "cell_type": "markdown",
   "metadata": {},
   "source": [
    "#### read in data from all states"
   ]
  },
  {
   "cell_type": "code",
   "execution_count": 203,
   "metadata": {},
   "outputs": [],
   "source": [
    "path = 'namesbystate' # needs to be updated for anyone who uses this code\n",
    "all_files = glob.glob(os.path.join(path, \"*.txt\"))\n",
    "\n",
    "dframes = []\n",
    "for item in all_files:\n",
    "    df = pd.read_csv(item,header=None,names=['State','Gender','birth_year','first_name','name_count'])\n",
    "    dframes.append(df)\n",
    "\n",
    "combined_df = pd.concat(dframes, axis=0, ignore_index=True)"
   ]
  },
  {
   "cell_type": "code",
   "execution_count": 319,
   "metadata": {},
   "outputs": [],
   "source": [
    "class BabyNames:\n",
    "    '''\n",
    "    FILL OUT DOCSTRING BB\n",
    "    '''\n",
    "    #part 2a\n",
    "    def __init__(self,path):\n",
    "        all_files = glob.glob(os.path.join(path, \"*.txt\"))\n",
    "        dframes = []\n",
    "        for item in all_files:\n",
    "            data = pd.read_csv(item,header=None,names=['State','Gender','birth_year','first_name','name_count'])\n",
    "            dframes.append(data)\n",
    "        self.df = pd.concat(dframes, axis=0, ignore_index=True)\n",
    "        \n",
    "    #part 2b\n",
    "    def Count(self,state=None,year=None):\n",
    "        if ((state!=None)&(year!=None)):\n",
    "            out_df = self.df[(self.df.State==state.upper())&(self.df.birth_year == year)]\n",
    "        \n",
    "        elif ((state==None)&(year!=None)):\n",
    "            out_df = self.df[self.df.birth_year == year]\n",
    "        \n",
    "        else:\n",
    "            out_df = self.df\n",
    "            \n",
    "        if out_df.empty:\n",
    "            print(\"There were no results for this combination of inputs. There may have been an error with your inputs. Please provide two letter abbrev for states in form of a string and the year as a 4 digit integer. Not providing an arg for either or both is acceptable as well.\")\n",
    "        else:\n",
    "            print('Total number of births for this combination of inputs: ')\n",
    "            return len(out_df)\n",
    "        \n",
    "    #part 2c:\n",
    "    def Top10BabyNames(self,state=None,year=None):\n",
    "        \n",
    "        self.rank_df = pd.DataFrame()\n",
    "        self.rank_df['Rank'] = list(range(1,11))\n",
    "        \n",
    "        if ((state!=None)&(year!=None)):\n",
    "            tmp_df = self.df[(self.df.State==state.upper())&(self.df.birth_year == year)]\n",
    "            self.rank_df['Male'] = tmp_df[tmp_df['Gender']=='M'].sort_values(by='name_count',ascending=False).reset_index()[:10]['first_name']\n",
    "            self.rank_df['Female'] = tmp_df[tmp_df['Gender']=='F'].sort_values(by='name_count',ascending=False).reset_index()[:10]['first_name']\n",
    "        \n",
    "        \n",
    "        elif ((state==None)&(year!=None)):\n",
    "            tmp_df = self.df[self.df.birth_year == year]\n",
    "            self.rank_df['Male'] = tmp_df[tmp_df['Gender']=='M'].sort_values(by='name_count',ascending=False).reset_index()[:10]['first_name']\n",
    "            self.rank_df['Female'] = tmp_df[tmp_df['Gender']=='F'].sort_values(by='name_count',ascending=False).reset_index()[:10]['first_name']\n",
    "        else:\n",
    "            tmp_df = self.df\n",
    "            tmp_df = tmp_df.groupby(['first_name','Gender']).sum().reset_index()\n",
    "            self.rank_df['Male'] = tmp_df[tmp_df['Gender']=='M'].sort_values(by='name_count',ascending=False).reset_index()[:10]['first_name']\n",
    "            self.rank_df['Female'] = tmp_df[tmp_df['Gender']=='F'].sort_values(by='name_count',ascending=False).reset_index()[:10]['first_name']\n",
    "        \n",
    "        if self.rank_df.empty:\n",
    "            print(\"There were no results for this combination of inputs (state: {}, year: {}). There may have been an error with your inputs. Please provide two letter abbrev for states in form of a string and the year as a 4 digit integer. Not providing an arg for either or both is acceptable as well.\".format(state,year))\n",
    "        else:\n",
    "            print('Top 10 male & female names for this combination of inputs (state: {}, year: {}):'.format(state,year))\n",
    "            return self.rank_df\n",
    "        \n",
    "    #part 2d:\n",
    "    def ChangeOfPopularity(self,fromYear, toYear, top):\n",
    "        fromYr_df = self.df[self.df.birth_year == fromYear].groupby(['first_name']).agg({'name_count':'sum'})\n",
    "        toYr_df = self.df[self.df.birth_year == toYear].groupby(['first_name']).agg({'name_count':'sum'})\n",
    "        self.popularity_df = pd.merge(fromYr_df,toYr_df,how='outer',on='first_name').fillna(0)\n",
    "        self.popularity_df['pop_change'] = self.popularity_df['name_count_x']- self.popularity_df['name_count_y']\n",
    "        self.popularity_df['pop_change'] = self.popularity_df['pop_change'].astype(int)\n",
    "        self.popularity_df.sort_values(by='pop_change',ascending=False,inplace=True)\n",
    "        self.popularity_df.reset_index(inplace=True)\n",
    "        self.pop_inc = self.popularity_df[:top][['first_name','pop_change']]\n",
    "        self.pop_dec = self.popularity_df[-top:][['first_name','pop_change']].sort_values(by='pop_change')\n",
    "        self.pop_same = self.popularity_df[self.popularity_df['pop_change']==0]['first_name']\n",
    "        \n",
    "        return self.pop_inc,self.pop_dec,self.pop_same\n",
    "        \n",
    "        \n",
    "        \n",
    "        \n",
    "        "
   ]
  },
  {
   "cell_type": "code",
   "execution_count": 320,
   "metadata": {},
   "outputs": [],
   "source": [
    "baby = BabyNames('namesbystate')"
   ]
  },
  {
   "cell_type": "code",
   "execution_count": 321,
   "metadata": {},
   "outputs": [
    {
     "name": "stdout",
     "output_type": "stream",
     "text": [
      "Total number of births for this combination of inputs: \n"
     ]
    },
    {
     "data": {
      "text/plain": [
       "2955"
      ]
     },
     "execution_count": 321,
     "metadata": {},
     "output_type": "execute_result"
    }
   ],
   "source": [
    "baby.Count(state='IL',year=1993)"
   ]
  },
  {
   "cell_type": "code",
   "execution_count": 322,
   "metadata": {},
   "outputs": [
    {
     "name": "stdout",
     "output_type": "stream",
     "text": [
      "Top 10 male & female names for this combination of inputs (state: IL, year: 2015):\n"
     ]
    },
    {
     "data": {
      "text/html": [
       "<div>\n",
       "<style scoped>\n",
       "    .dataframe tbody tr th:only-of-type {\n",
       "        vertical-align: middle;\n",
       "    }\n",
       "\n",
       "    .dataframe tbody tr th {\n",
       "        vertical-align: top;\n",
       "    }\n",
       "\n",
       "    .dataframe thead th {\n",
       "        text-align: right;\n",
       "    }\n",
       "</style>\n",
       "<table border=\"1\" class=\"dataframe\">\n",
       "  <thead>\n",
       "    <tr style=\"text-align: right;\">\n",
       "      <th></th>\n",
       "      <th>Rank</th>\n",
       "      <th>Male</th>\n",
       "      <th>Female</th>\n",
       "    </tr>\n",
       "  </thead>\n",
       "  <tbody>\n",
       "    <tr>\n",
       "      <th>0</th>\n",
       "      <td>1</td>\n",
       "      <td>Noah</td>\n",
       "      <td>Olivia</td>\n",
       "    </tr>\n",
       "    <tr>\n",
       "      <th>1</th>\n",
       "      <td>2</td>\n",
       "      <td>Liam</td>\n",
       "      <td>Emma</td>\n",
       "    </tr>\n",
       "    <tr>\n",
       "      <th>2</th>\n",
       "      <td>3</td>\n",
       "      <td>Alexander</td>\n",
       "      <td>Sophia</td>\n",
       "    </tr>\n",
       "    <tr>\n",
       "      <th>3</th>\n",
       "      <td>4</td>\n",
       "      <td>Jacob</td>\n",
       "      <td>Mia</td>\n",
       "    </tr>\n",
       "    <tr>\n",
       "      <th>4</th>\n",
       "      <td>5</td>\n",
       "      <td>Michael</td>\n",
       "      <td>Isabella</td>\n",
       "    </tr>\n",
       "    <tr>\n",
       "      <th>5</th>\n",
       "      <td>6</td>\n",
       "      <td>Benjamin</td>\n",
       "      <td>Ava</td>\n",
       "    </tr>\n",
       "    <tr>\n",
       "      <th>6</th>\n",
       "      <td>7</td>\n",
       "      <td>William</td>\n",
       "      <td>Sofia</td>\n",
       "    </tr>\n",
       "    <tr>\n",
       "      <th>7</th>\n",
       "      <td>8</td>\n",
       "      <td>Daniel</td>\n",
       "      <td>Abigail</td>\n",
       "    </tr>\n",
       "    <tr>\n",
       "      <th>8</th>\n",
       "      <td>9</td>\n",
       "      <td>Mason</td>\n",
       "      <td>Emily</td>\n",
       "    </tr>\n",
       "    <tr>\n",
       "      <th>9</th>\n",
       "      <td>10</td>\n",
       "      <td>James</td>\n",
       "      <td>Amelia</td>\n",
       "    </tr>\n",
       "  </tbody>\n",
       "</table>\n",
       "</div>"
      ],
      "text/plain": [
       "   Rank       Male    Female\n",
       "0     1       Noah    Olivia\n",
       "1     2       Liam      Emma\n",
       "2     3  Alexander    Sophia\n",
       "3     4      Jacob       Mia\n",
       "4     5    Michael  Isabella\n",
       "5     6   Benjamin       Ava\n",
       "6     7    William     Sofia\n",
       "7     8     Daniel   Abigail\n",
       "8     9      Mason     Emily\n",
       "9    10      James    Amelia"
      ]
     },
     "execution_count": 322,
     "metadata": {},
     "output_type": "execute_result"
    }
   ],
   "source": [
    "baby.Top10BabyNames('IL',year=2015)"
   ]
  },
  {
   "cell_type": "code",
   "execution_count": 323,
   "metadata": {},
   "outputs": [
    {
     "data": {
      "text/plain": [
       "(   first_name  pop_change\n",
       " 0       Emily        2545\n",
       " 1        Ryan        1547\n",
       " 2       Tyler        1414\n",
       " 3    Nicholas        1401\n",
       " 4     Jessica        1301\n",
       " 5     Zachary        1278\n",
       " 6        Emma        1231\n",
       " 7    Samantha        1176\n",
       " 8     Michael        1161\n",
       " 9     Matthew        1143\n",
       " 10     Andrew        1009\n",
       " 11      Jacob         998\n",
       " 12    Madison         961\n",
       " 13     Ashley         955\n",
       " 14     Joshua         937\n",
       " 15      Megan         910\n",
       " 16      Grace         900\n",
       " 17      Jenna         852\n",
       " 18     Sydney         852\n",
       " 19      Haley         834,       first_name  pop_change\n",
       " 11258    Addison       -4657\n",
       " 11257        Ava       -3326\n",
       " 11256   Isabella       -3039\n",
       " 11255      Aiden       -2497\n",
       " 11254     Landon       -2467\n",
       " 11253       Noah       -2438\n",
       " 11252    Tristan       -1827\n",
       " 11251      Jayla       -1650\n",
       " 11250      Logan       -1625\n",
       " 11249      Keira       -1567\n",
       " 11248     Jayden       -1541\n",
       " 11247      Diego       -1471\n",
       " 11246      Alexa       -1450\n",
       " 11245     Aubrey       -1395\n",
       " 11244     Nevaeh       -1378\n",
       " 11243  Sebastian       -1321\n",
       " 11242    Valeria       -1317\n",
       " 11241    Jackson       -1314\n",
       " 11240     Xavier       -1302\n",
       " 11239        Mia       -1174, 4766       Yeshaya\n",
       " 4767         Lakin\n",
       " 4768    Jeanpierre\n",
       " 4769        Hafsah\n",
       " 4770         Jaydn\n",
       " 4771        Sholom\n",
       " 4772      Hadleigh\n",
       " 4773        Alakai\n",
       " 4774         Mayla\n",
       " 4775     Evangelos\n",
       " 4776       Jahmari\n",
       " 4777         Lakyn\n",
       " 4778         Alain\n",
       " 4779        Jahmel\n",
       " 4780       Allisyn\n",
       " 4781       Yehudit\n",
       " 4782        Spirit\n",
       " 4783         Sahid\n",
       " 4784     Bridgette\n",
       " 4785         Alona\n",
       " 4786         Hafsa\n",
       " 4787      Lakendra\n",
       " 4788           Sai\n",
       " 4789       Crimson\n",
       " 4790     Yechezkel\n",
       " 4791         Keani\n",
       " 4792         Keeli\n",
       " 4793          Ever\n",
       " 4794      Maricruz\n",
       " 4795          Cady\n",
       "            ...    \n",
       " 5178       Radhika\n",
       " 5179        Jeriah\n",
       " 5180         Jhett\n",
       " 5181      Kallista\n",
       " 5182         Halli\n",
       " 5183       Brailey\n",
       " 5184      Leopoldo\n",
       " 5185       Aminata\n",
       " 5186       Malaika\n",
       " 5187       Micayla\n",
       " 5188       Breydon\n",
       " 5189       Brallan\n",
       " 5190        Leasia\n",
       " 5191       Malachy\n",
       " 5192       Jeremie\n",
       " 5193        Izeyah\n",
       " 5194        Ulyses\n",
       " 5195      Lilianne\n",
       " 5196          Kase\n",
       " 5197         Leiah\n",
       " 5198         Karin\n",
       " 5199       Librado\n",
       " 5200        Bracha\n",
       " 5201        Sumeya\n",
       " 5202        Amadeo\n",
       " 5203        Amador\n",
       " 5204        Leiana\n",
       " 5205       Daniyal\n",
       " 5206      Preciosa\n",
       " 5207       Brandom\n",
       " Name: first_name, Length: 442, dtype: object)"
      ]
     },
     "execution_count": 323,
     "metadata": {},
     "output_type": "execute_result"
    }
   ],
   "source": [
    "baby.ChangeOfPopularity(2005,2006,20)"
   ]
  },
  {
   "cell_type": "code",
   "execution_count": null,
   "metadata": {},
   "outputs": [],
   "source": []
  }
 ],
 "metadata": {
  "kernelspec": {
   "display_name": "Python 3",
   "language": "python",
   "name": "python3"
  },
  "language_info": {
   "codemirror_mode": {
    "name": "ipython",
    "version": 3
   },
   "file_extension": ".py",
   "mimetype": "text/x-python",
   "name": "python",
   "nbconvert_exporter": "python",
   "pygments_lexer": "ipython3",
   "version": "3.7.3"
  }
 },
 "nbformat": 4,
 "nbformat_minor": 2
}
